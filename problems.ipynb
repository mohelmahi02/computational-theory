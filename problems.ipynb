{
 "cells": [
  {
   "cell_type": "markdown",
   "id": "b77e7579",
   "metadata": {},
   "source": [
    "# Problem 1: Binary Words and Operations\n",
    "\n",
    "Implement the following functions in Python. Use numpy to ensure that all variables and values are treated as 32-bit integers. These functions are defined in the Secure Hash Standard (see page 10).\n",
    "\n",
    "## Functions to Implement:\n",
    "\n",
    "1. `Parity(x, y, z)`\n",
    "2. `Ch(x, y, z)`\n",
    "3. `Maj(x, y, z)`\n",
    "4. `Sigma0(x)` - written as Σ₀²⁵⁶(x) in the standard\n",
    "5. `Sigma1(x)` - written as Σ₁²⁵⁶(x) in the standard\n",
    "6. `sigma0(x)` - written as σ₀²⁵⁶(x) in the standard\n",
    "7. `sigma1(x)` - written as σ₁²⁵⁶(x) in the standard\n",
    "\n",
    "## References\n",
    "\n",
    "**FIPS 180-4: Secure Hash Standard**\n",
    "- National Institute of Standards and Technology (NIST)\n",
    "- URL: https://nvlpubs.nist.gov/nistpubs/FIPS/NIST.FIPS.180-4.pdf\n",
    "- Section 4.1.2, Page 10 - SHA-256 Functions"
   ]
  },
  {
   "cell_type": "code",
   "execution_count": 4,
   "id": "7308bdba",
   "metadata": {},
   "outputs": [],
   "source": [
    "# ----------------------------------------------------------------------------\n",
    "# PART 1: Parity Function\n",
    "# ----------------------------------------------------------------------------\n",
    "import numpy as np\n",
    "def Parity(x, y, z):\n",
    "    \"\"\"\n",
    "\n",
    "    Parity function from SHA-256 specification.\n",
    "    \n",
    "    Returns the bitwise XOR of x, y, and z.\n",
    "    Formula: x ⊕ y ⊕ z\n",
    "    \n",
    "    This function is used in the SHA-1 algorithm but included here\n",
    "    for completeness of bitwise operations.\n",
    "     \n",
    "    Args:\n",
    "        x, y, z: 32-bit unsigned integers\n",
    "    Returns:\n",
    "        np.uint32: Result of x XOR y XOR z\n",
    "    \"\"\"\n",
    "    # Convert all inputs to 32-bit unsigned integers\n",
    "    x, y, z = np.uint32(x), np.uint32(y), np.uint32(z)\n",
    "    # Perform XOR operation on all three values\n",
    "    return np.uint32(x ^ y ^ z)  \n",
    "# ----------------------------------------------------------------------------\n",
    "# PART 2: Choice (Ch) Function\n",
    "# ----------------------------------------------------------------------------\n",
    "\n",
    "\n",
    "def Ch(x, y, z):\n",
    "    \"\"\"\n",
    "    Choice function from SHA-256 specification.\n",
    "    \n",
    "    For each bit position, chooses bit from y if x is 1,\n",
    "    otherwise chooses bit from z.\n",
    "    \n",
    "    Formula: (x ∧ y) ⊕ (¬x ∧ z)\n",
    "    \n",
    "    Used in: SHA-256 compression function (Step 1 of each round)\n",
    "    \n",
    "    Args:\n",
    "        x, y, z: 32-bit unsigned integers\n",
    "    \n",
    "    Returns:\n",
    "        np.uint32: Result of the choice operation\n",
    "    \"\"\"\n",
    "    # Convert all inputs to 32-bit unsigned integers\n",
    "    x, y, z = np.uint32(x), np.uint32(y), np.uint32(z)\n",
    "    # Where x is 1, choose y; where x is 0, choose z\n",
    "    return np.uint32((x & y) ^ (~x & z))\n",
    "\n",
    "\n",
    "\n",
    "\n"
   ]
  },
  {
   "cell_type": "code",
   "execution_count": 5,
   "id": "55444694",
   "metadata": {},
   "outputs": [
    {
     "name": "stdout",
     "output_type": "stream",
     "text": [
      "Parity(12, 10, 6) = 0\n",
      "Binary: 0b0\n"
     ]
    }
   ],
   "source": [
    "# Test the Parity function\n",
    "x = np.uint32(0b1100)\n",
    "y = np.uint32(0b1010)\n",
    "z = np.uint32(0b0110)\n",
    "\n",
    "result = Parity(x, y, z)\n",
    "print(f\"Parity({x}, {y}, {z}) = {result}\")\n",
    "print(f\"Binary: {bin(result)}\")"
   ]
  },
  {
   "cell_type": "code",
   "execution_count": 6,
   "id": "1c6a4070",
   "metadata": {},
   "outputs": [
    {
     "name": "stdout",
     "output_type": "stream",
     "text": [
      "Ch(12, 10, 6) = 10\n",
      "Binary: 0b1010\n"
     ]
    }
   ],
   "source": [
    "# Test the Ch function\n",
    "x = np.uint32(0b1100)\n",
    "y = np.uint32(0b1010)\n",
    "z = np.uint32(0b0110)\n",
    "\n",
    "result = Ch(x, y, z)\n",
    "print(f\"Ch({x}, {y}, {z}) = {result}\")\n",
    "print(f\"Binary: {bin(result)}\")"
   ]
  }
 ],
 "metadata": {
  "kernelspec": {
   "display_name": "Python 3",
   "language": "python",
   "name": "python3"
  },
  "language_info": {
   "codemirror_mode": {
    "name": "ipython",
    "version": 3
   },
   "file_extension": ".py",
   "mimetype": "text/x-python",
   "name": "python",
   "nbconvert_exporter": "python",
   "pygments_lexer": "ipython3",
   "version": "3.12.1"
  }
 },
 "nbformat": 4,
 "nbformat_minor": 5
}
