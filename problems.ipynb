{
 "cells": [
  {
   "cell_type": "markdown",
   "id": "b77e7579",
   "metadata": {},
   "source": [
    "# Problem 1: Binary Words and Operations\n",
    "\n",
    "Implement the following functions in Python. Use numpy to ensure that all variables and values are treated as 32-bit integers. These functions are defined in the Secure Hash Standard (see page 10).\n",
    "\n",
    "## Functions to Implement:\n",
    "\n",
    "1. `Parity(x, y, z)`\n",
    "2. `Ch(x, y, z)`\n",
    "3. `Maj(x, y, z)`\n",
    "4. `Sigma0(x)` - written as Σ₀²⁵⁶(x) in the standard\n",
    "5. `Sigma1(x)` - written as Σ₁²⁵⁶(x) in the standard\n",
    "6. `sigma0(x)` - written as σ₀²⁵⁶(x) in the standard\n",
    "7. `sigma1(x)` - written as σ₁²⁵⁶(x) in the standard\n",
    "\n",
    "## References\n",
    "\n",
    "**FIPS 180-4: Secure Hash Standard**\n",
    "- National Institute of Standards and Technology (NIST)\n",
    "- URL: https://nvlpubs.nist.gov/nistpubs/FIPS/NIST.FIPS.180-4.pdf\n",
    "- Section 4.1.2, Page 10 - SHA-256 Functions"
   ]
  },
  {
   "cell_type": "code",
   "execution_count": null,
   "id": "7308bdba",
   "metadata": {},
   "outputs": [],
   "source": [
    "# ----------------------------------------------------------------------------\n",
    "# PART 1: Parity Function\n",
    "# ----------------------------------------------------------------------------\n",
    "import numpy as np\n",
    "def Parity(x, y, z):\n",
    "    \"\"\"\n",
    "\n",
    "    Parity function from SHA-256 specification.\n",
    "    \n",
    "    Returns the bitwise XOR of x, y, and z.\n",
    "    Formula: x ⊕ y ⊕ z\n",
    "    \n",
    "    This function is used in the SHA-1 algorithm but included here\n",
    "    for completeness of bitwise operations.\n",
    "     \n",
    "    Args:\n",
    "        x, y, z: 32-bit unsigned integers\n",
    "    \n",
    "    Returns:\n",
    "        np.uint32: Result of x XOR y XOR z\n",
    "        \n",
    "    \"\"\"                     \n"
   ]
  }
 ],
 "metadata": {
  "kernelspec": {
   "display_name": "Python 3",
   "language": "python",
   "name": "python3"
  },
  "language_info": {
   "codemirror_mode": {
    "name": "ipython",
    "version": 3
   },
   "file_extension": ".py",
   "mimetype": "text/x-python",
   "name": "python",
   "nbconvert_exporter": "python",
   "pygments_lexer": "ipython3",
   "version": "3.12.1"
  }
 },
 "nbformat": 4,
 "nbformat_minor": 5
}
